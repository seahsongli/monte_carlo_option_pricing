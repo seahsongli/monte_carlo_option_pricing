{
 "cells": [
  {
   "cell_type": "markdown",
   "id": "c4fd094e",
   "metadata": {},
   "source": [
    "Monte Carlo Simulation is a computation technique that uses random sampling to estimate mathematical functions and mimic the behaviour of various financial instruments. \n",
    "\n",
    "In our case, Monte Carlo Simulation is used to model the movement of the stock price under a variety of possible future scenarios, and then determine the option price based off these simulations. Here is a step-by-step breakdown of how Monte Carlo simulation can be used in the context of option pricing:\n",
    "1) Simulate Stock Price Paths\n",
    "2) Calculate Payoff for each path\n",
    "3) Discount the payoff to current value\n",
    "4) Average the discounted payoffs\n",
    "\n",
    "We will be going through more on how to execute each steps later on. For now, let us go through the components needed to build a Monte Carlo Option Pricing model."
   ]
  },
  {
   "cell_type": "markdown",
   "id": "b2b10d01",
   "metadata": {},
   "source": [
    "## Model Parameters"
   ]
  },
  {
   "cell_type": "markdown",
   "id": "026d7e71",
   "metadata": {},
   "source": [
    "Every model we build requires some parameters, for our case, the Monte Carlo Option Pricing Model would require the following parameters:\n",
    "1) S0: Intial Stock Price\n",
    "2) K: Strike Price\n",
    "3) T: Time to maturity (in years)\n",
    "4) r: Risk-free interest rate (annual)\n",
    "5) Sigma: Volatility of stock (annual)\n",
    "\n",
    "S0 (Inital stock Price): Refers to the price of the stock at the beginning of the simulation. This is the starting point for all simulated stock price paths.\n",
    "\n",
    "K (Strike price): The price at which the option can be exercised. For a call option, this is the price at which the holder can buy the stock; for a put option, this is the price at which the holder can sell the stock.\n",
    "\n",
    "T (Time to Maturity): The time remaining until the option expires, expressed in years. This affects the duration over which stock price paths are simulated.\n",
    "\n",
    "r (Risk-Free Interest Rate): The theorectical rate of return of an investment with zero risk, usually represented by government bonds. It is used to discount the future payoff back to present value.\n",
    "\n",
    "sigma (Volatility): A measure the stock's fluctuation over time, expressed as an annualised standard deviation. Higher volaitiliy means larger potential price swings."
   ]
  },
  {
   "cell_type": "markdown",
   "id": "953b6925",
   "metadata": {},
   "source": [
    "## Step 1: Simulate stock price paths"
   ]
  },
  {
   "cell_type": "markdown",
   "id": "a39d2fa2",
   "metadata": {},
   "source": [
    "To simulate stock price paths, we will need to generate a large number of possible paths for the stock price using the Geometric Brownian model. This involves creating random samples of stock price movements over time and accounting for the expected return (drift) and volatility (random fluctations)."
   ]
  },
  {
   "cell_type": "markdown",
   "id": "4d836803",
   "metadata": {},
   "source": [
    "The continuous-time Geometric Brownian Motion is given by the following stochastic differential equation\n",
    "\n",
    "$$\n",
    "  dS_t = \\mu * S_t + \\sigma * S_t dW_t\n",
    "$$\n",
    "Where: \n",
    "\n",
    "$S_t$ is the stock price at time $t$.\n",
    "\n",
    "$\\mu$ is the drift coefficient, representing the expected rate of return of the stock.\n",
    "\n",
    "$\\sigma$ is the volatility coefficient, representing the standard deviation of stock's returns (a measure of uncertainty or risk).\n",
    "\n",
    "$W_t$ is a Wiener process or standard Brownian motion, which introduces the random component of the model. \n",
    "\n",
    "\n",
    "#### Discretized Form\n",
    "For practical purposes, especially in simulations, the GBM model is often expressed in its discreteized form:\n",
    "\n",
    "$$\n",
    "S_{t+\\Delta t} = S_t \\exp\\left((\\mu - \\frac{1}{2} \\sigma^2) \\Delta t + \\sigma \\sqrt{\\Delta t} Z_t \\right)\n",
    "$$\n",
    "\n",
    "Where:\n",
    "\n",
    "$\\Delta t$ is the discrete time step\n",
    "\n",
    "$Z$ is a random variable drawn from a standard normal distrbution ($Z$~$N$(0,1))."
   ]
  },
  {
   "cell_type": "markdown",
   "id": "8acc6ef0",
   "metadata": {},
   "source": [
    "### Geometric Brownian Motion - Assumptions\n",
    "\n",
    "1) Log-Normal Distribution: Geometric Brownian Motion assumes that the logarithm of stock price follows a normal distribution. This ensures that the stock price itself is always positive, which is realistic for real-world financial assets.\n",
    "\n",
    "2) Continuous path: The model assumes that stock prices change continuously over time, rather than jumping adruptly. This continuous path is more aligned with how prices move in liquid financial markets (i.e. not many sharp increment in prices)."
   ]
  },
  {
   "cell_type": "code",
   "execution_count": 15,
   "id": "f2560556",
   "metadata": {},
   "outputs": [
    {
     "data": {
      "text/plain": [
       "17.387613525684927"
      ]
     },
     "execution_count": 15,
     "metadata": {},
     "output_type": "execute_result"
    }
   ],
   "source": [
    "import numpy as np\n",
    "S0 = 100      # Initial stock price\n",
    "K = 120       # Strike price\n",
    "T = 1.0       # Time to maturity in years\n",
    "r = 0.05      # Risk-free interest rate\n",
    "sigma = 0.2   # Volatility\n",
    "\n",
    "option = \"put\"\n",
    "n_simulations = 10000\n",
    "num_steps = 100\n",
    "dt = T/num_steps\n",
    "\n",
    "s = np.zeros((num_steps+1, n_simulations)) # each col is a simulation, each row represent a discrete time step \n",
    "s[0] = S0\n",
    "for t in range(1, num_steps+1):\n",
    "    Z = np.random.standard_normal(n_simulations)\n",
    "    s[t] = s[t-1] * np.exp((r - 0.5 * sigma**2) * dt + sigma * np.sqrt(dt) * Z)\n",
    "\n",
    "payoff = 0\n",
    "if option == \"call\":\n",
    "    payoff = np.maximum(s[-1], 0)\n",
    "elif option == \"put\":\n",
    "    payoff = np.maximum(K - s[-1], 0)\n",
    "\n",
    "# Discount the payoff \n",
    "discounted_payoff = payoff * np.exp(-r * T)\n",
    "\n",
    "option_price = np.mean(discounted_payoff)\n",
    "option_price"
   ]
  },
  {
   "cell_type": "markdown",
   "id": "b881edef",
   "metadata": {},
   "source": [
    "In Monte Carlo simulation, the accuracy of the estimate is often limited by variance of sample mean. Reducing this variance can lead to more accurate and reliable estimates of the expected value. Let us see how we can improve on this model."
   ]
  },
  {
   "cell_type": "markdown",
   "id": "5b59f185",
   "metadata": {},
   "source": [
    "### Improving the model - Antithetic Variates\n",
    "Antithetic Variates helps to reduce variance by generating pairs of dependent random variables that are negatively correlated. By doing so, any high value in one simulation is likely to be offset by a low value in the paired simulation, leading to a more balanced and stable average.\n",
    "\n",
    "In our case, for a given random variable $Z$ from a standard normal distribution, its antithetic counterpart is -$Z$. The pair ($Z$, $-Z$) ensures that if $Z$ is high, -$Z$ is low, vice versa."
   ]
  },
  {
   "cell_type": "code",
   "execution_count": 18,
   "id": "0c691259",
   "metadata": {},
   "outputs": [
    {
     "ename": "ValueError",
     "evalue": "could not broadcast input array from shape (100,10000) into shape (10000,)",
     "output_type": "error",
     "traceback": [
      "\u001b[1;31m---------------------------------------------------------------------------\u001b[0m",
      "\u001b[1;31mValueError\u001b[0m                                Traceback (most recent call last)",
      "Cell \u001b[1;32mIn[18], line 19\u001b[0m\n\u001b[0;32m     17\u001b[0m Z \u001b[38;5;241m=\u001b[39m np\u001b[38;5;241m.\u001b[39mconcatenate((Z, \u001b[38;5;241m-\u001b[39mZ), axis\u001b[38;5;241m=\u001b[39m\u001b[38;5;241m1\u001b[39m)\n\u001b[0;32m     18\u001b[0m \u001b[38;5;28;01mfor\u001b[39;00m t \u001b[38;5;129;01min\u001b[39;00m \u001b[38;5;28mrange\u001b[39m(\u001b[38;5;241m1\u001b[39m, num_steps\u001b[38;5;241m+\u001b[39m\u001b[38;5;241m1\u001b[39m):\n\u001b[1;32m---> 19\u001b[0m     s[t] \u001b[38;5;241m=\u001b[39m s[t\u001b[38;5;241m-\u001b[39m\u001b[38;5;241m1\u001b[39m] \u001b[38;5;241m*\u001b[39m np\u001b[38;5;241m.\u001b[39mexp((r \u001b[38;5;241m-\u001b[39m \u001b[38;5;241m0.5\u001b[39m \u001b[38;5;241m*\u001b[39m sigma\u001b[38;5;241m*\u001b[39m\u001b[38;5;241m*\u001b[39m\u001b[38;5;241m2\u001b[39m) \u001b[38;5;241m*\u001b[39m dt \u001b[38;5;241m+\u001b[39m sigma \u001b[38;5;241m*\u001b[39m np\u001b[38;5;241m.\u001b[39msqrt(dt) \u001b[38;5;241m*\u001b[39m Z)\n\u001b[0;32m     21\u001b[0m payoff \u001b[38;5;241m=\u001b[39m \u001b[38;5;241m0\u001b[39m\n\u001b[0;32m     22\u001b[0m \u001b[38;5;28;01mif\u001b[39;00m option \u001b[38;5;241m==\u001b[39m \u001b[38;5;124m\"\u001b[39m\u001b[38;5;124mcall\u001b[39m\u001b[38;5;124m\"\u001b[39m:\n",
      "\u001b[1;31mValueError\u001b[0m: could not broadcast input array from shape (100,10000) into shape (10000,)"
     ]
    }
   ],
   "source": [
    "import numpy as np\n",
    "S0 = 100      # Initial stock price\n",
    "K = 120       # Strike price\n",
    "T = 1.0       # Time to maturity in years\n",
    "r = 0.05      # Risk-free interest rate\n",
    "sigma = 0.2   # Volatility\n",
    "\n",
    "option = \"put\"\n",
    "n_simulations = 10000\n",
    "num_steps = 100\n",
    "dt = T/num_steps\n",
    "\n",
    "s = np.zeros((num_steps+1, n_simulations)) # each col is a simulation, each row represent a discrete time step \n",
    "s[0] = S0\n",
    "\n",
    "Z = np.random.standard_normal((num_steps, n_simulations//2))\n",
    "Z = np.concatenate((Z, -Z), axis=1)\n",
    "for t in range(1, num_steps+1):\n",
    "    s[t] = s[t-1] * np.exp((r - 0.5 * sigma**2) * dt + sigma * np.sqrt(dt) * Z)\n",
    "\n",
    "payoff = 0\n",
    "if option == \"call\":\n",
    "    payoff = np.maximum(s[-1], 0)\n",
    "elif option == \"put\":\n",
    "    payoff = np.maximum(K - s[-1], 0)\n",
    "\n",
    "# Discount the payoff \n",
    "discounted_payoff = payoff * np.exp(-r * T)\n",
    "\n",
    "option_price = np.mean(discounted_payoff)\n",
    "option_price"
   ]
  },
  {
   "cell_type": "code",
   "execution_count": null,
   "id": "65cc137d",
   "metadata": {},
   "outputs": [],
   "source": []
  }
 ],
 "metadata": {
  "kernelspec": {
   "display_name": "Python 3 (ipykernel)",
   "language": "python",
   "name": "python3"
  },
  "language_info": {
   "codemirror_mode": {
    "name": "ipython",
    "version": 3
   },
   "file_extension": ".py",
   "mimetype": "text/x-python",
   "name": "python",
   "nbconvert_exporter": "python",
   "pygments_lexer": "ipython3",
   "version": "3.11.7"
  }
 },
 "nbformat": 4,
 "nbformat_minor": 5
}
